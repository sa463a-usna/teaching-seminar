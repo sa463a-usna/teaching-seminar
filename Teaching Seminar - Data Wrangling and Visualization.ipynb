{
 "cells": [
  {
   "cell_type": "markdown",
   "metadata": {
    "slideshow": {
     "slide_type": "slide"
    }
   },
   "source": [
    "# A Course on Data Wrangling and Visualization\n",
    "\n",
    "Nelson Uhan\n",
    "\n",
    "Math Department Teaching Seminar<br>\n",
    "3 December 2020"
   ]
  },
  {
   "cell_type": "markdown",
   "metadata": {
    "slideshow": {
     "slide_type": "slide"
    }
   },
   "source": [
    "- This semester, Jay Foraker and I developed a new course on data wrangling and visualization<br><br>\n",
    "\n",
    "- What is this course about?<br><br>\n",
    "\n",
    "- Structured ways to think about data wrangling and visualization"
   ]
  },
  {
   "cell_type": "markdown",
   "metadata": {
    "slideshow": {
     "slide_type": "slide"
    }
   },
   "source": [
    "## Motivation for the course"
   ]
  },
  {
   "cell_type": "markdown",
   "metadata": {
    "slideshow": {
     "slide_type": "-"
    }
   },
   "source": [
    "- The OR curriculum exposes students to a wide variety of modeling and algorithmic techniques"
   ]
  },
  {
   "cell_type": "markdown",
   "metadata": {
    "slideshow": {
     "slide_type": "fragment"
    }
   },
   "source": [
    "- These concepts have been typically taught with small, tidy data sets"
   ]
  },
  {
   "cell_type": "markdown",
   "metadata": {
    "slideshow": {
     "slide_type": "fragment"
    }
   },
   "source": [
    "- Unfortunately, as a result, students have not been well-equipped to tackle the large, messy data sets typically involved with OR capstone projects"
   ]
  },
  {
   "cell_type": "markdown",
   "metadata": {
    "slideshow": {
     "slide_type": "fragment"
    }
   },
   "source": [
    "- This course aims to fill this gap"
   ]
  },
  {
   "cell_type": "markdown",
   "metadata": {
    "slideshow": {
     "slide_type": "slide"
    }
   },
   "source": [
    "## Student goals for the course"
   ]
  },
  {
   "cell_type": "markdown",
   "metadata": {
    "slideshow": {
     "slide_type": "-"
    }
   },
   "source": [
    "1. Learn to create useful visualizations of data through a **grammar of graphics**<br><br>\n",
    "\n",
    "2. Learn to wrangle (i.e. clean and manipulate) large, messy data sets into forms suitable for modeling and analysis through a **grammar of data manipulation**<br><br>\n",
    "\n",
    "3. Increase general fluency with Python"
   ]
  },
  {
   "cell_type": "markdown",
   "metadata": {
    "slideshow": {
     "slide_type": "slide"
    }
   },
   "source": [
    "## Grammar of graphics"
   ]
  },
  {
   "cell_type": "markdown",
   "metadata": {
    "slideshow": {
     "slide_type": "-"
    }
   },
   "source": [
    "- A **grammar of graphics** allows us to concisely describe the components of a (statistical) visualization<br><br>\n",
    "\n",
    "- With such a grammar, we can move beyond named graphics (e.g. \"scatterplot\", \"bar graph\") and specify basic and complex visualizations in a structured way"
   ]
  },
  {
   "cell_type": "markdown",
   "metadata": {
    "slideshow": {
     "slide_type": "fragment"
    }
   },
   "source": [
    "- Popularized by [Hadley Wickham](http://hadley.nz/) (Chief Scientist, R Studio) and his [ggplot2](https://ggplot2.tidyverse.org/) package for R<br><br>\n",
    "\n",
    "- In this course, we used [Altair](https://altair-viz.github.io/), a grammar-based visualization package for Python"
   ]
  },
  {
   "cell_type": "markdown",
   "metadata": {
    "slideshow": {
     "slide_type": "slide"
    }
   },
   "source": [
    "## Components of a visualization"
   ]
  },
  {
   "cell_type": "markdown",
   "metadata": {
    "slideshow": {
     "slide_type": "-"
    }
   },
   "source": [
    "*Note.* This is Altair's terminology."
   ]
  },
  {
   "cell_type": "markdown",
   "metadata": {
    "slideshow": {
     "slide_type": "-"
    }
   },
   "source": [
    "- **Dataset** with variables and observations"
   ]
  },
  {
   "cell_type": "markdown",
   "metadata": {
    "slideshow": {
     "slide_type": "fragment"
    }
   },
   "source": [
    "- **Encoding channels** map variables to visual attributes (e.g. x-position, y-position, color, shape)\n",
    "    - **Scales** for each encoding channel to adjust these mappings (e.g. linear vs. log scale positions)"
   ]
  },
  {
   "cell_type": "markdown",
   "metadata": {
    "slideshow": {
     "slide_type": "fragment"
    }
   },
   "source": [
    "- **Graphical marks** specify how these visual attributes should be visually represented (e.g. points, lines, bars)"
   ]
  },
  {
   "cell_type": "markdown",
   "metadata": {
    "slideshow": {
     "slide_type": "fragment"
    }
   },
   "source": [
    "- **Transformations** modify the data before visualization"
   ]
  },
  {
   "cell_type": "markdown",
   "metadata": {
    "slideshow": {
     "slide_type": "fragment"
    }
   },
   "source": [
    "- **Layering**, **concatenation**, and **faceting** specify how to combine or generate multiple related charts"
   ]
  },
  {
   "cell_type": "markdown",
   "metadata": {
    "slideshow": {
     "slide_type": "slide"
    }
   },
   "source": [
    "## An example"
   ]
  },
  {
   "cell_type": "markdown",
   "metadata": {
    "slideshow": {
     "slide_type": "-"
    }
   },
   "source": [
    "- Let's use some health and population data for a number of countries between 1955 and 2005\n",
    "    - Data from by the [Gapminder Foundation](https://www.gapminder.org/)"
   ]
  },
  {
   "cell_type": "markdown",
   "metadata": {
    "slideshow": {
     "slide_type": "subslide"
    }
   },
   "source": [
    "- First, let's take a look at the first 5 rows of the data:\n",
    "\n",
    "\n",
    "<table border=\"1\" class=\"dataframe\">\n",
    "  <thead>\n",
    "    <tr style=\"text-align: right;\">\n",
    "      <th></th>\n",
    "      <th>year</th>\n",
    "      <th>country</th>\n",
    "      <th>cluster</th>\n",
    "      <th>pop</th>\n",
    "      <th>life_expect</th>\n",
    "      <th>fertility</th>\n",
    "    </tr>\n",
    "  </thead>\n",
    "  <tbody>\n",
    "    <tr>\n",
    "      <th>0</th>\n",
    "      <td>1955</td>\n",
    "      <td>Afghanistan</td>\n",
    "      <td>South Asia</td>\n",
    "      <td>8891209</td>\n",
    "      <td>30.332</td>\n",
    "      <td>7.7</td>\n",
    "    </tr>\n",
    "    <tr>\n",
    "      <th>1</th>\n",
    "      <td>1960</td>\n",
    "      <td>Afghanistan</td>\n",
    "      <td>South Asia</td>\n",
    "      <td>9829450</td>\n",
    "      <td>31.997</td>\n",
    "      <td>7.7</td>\n",
    "    </tr>\n",
    "    <tr>\n",
    "      <th>2</th>\n",
    "      <td>1965</td>\n",
    "      <td>Afghanistan</td>\n",
    "      <td>South Asia</td>\n",
    "      <td>10997885</td>\n",
    "      <td>34.020</td>\n",
    "      <td>7.7</td>\n",
    "    </tr>\n",
    "    <tr>\n",
    "      <th>3</th>\n",
    "      <td>1970</td>\n",
    "      <td>Afghanistan</td>\n",
    "      <td>South Asia</td>\n",
    "      <td>12430623</td>\n",
    "      <td>36.088</td>\n",
    "      <td>7.7</td>\n",
    "    </tr>\n",
    "    <tr>\n",
    "      <th>4</th>\n",
    "      <td>1975</td>\n",
    "      <td>Afghanistan</td>\n",
    "      <td>South Asia</td>\n",
    "      <td>14132019</td>\n",
    "      <td>38.438</td>\n",
    "      <td>7.7</td>\n",
    "    </tr>\n",
    "  </tbody>\n",
    "</table>\n",
    "\n",
    "- Each row of this dataset contains the following data for each `country` and `year`:\n",
    "    - region of the world (`cluster`)\n",
    "    - total population (`pop`)\n",
    "    - average life expectancy in years (`life_expect`)\n",
    "    - number of children per woman (`fertility`)"
   ]
  },
  {
   "cell_type": "markdown",
   "metadata": {
    "slideshow": {
     "slide_type": "subslide"
    }
   },
   "source": [
    "- Let's use Altair to plot the average life expectancy (`life_expect`) vs. number of children per woman (`fertility`) in the year 2000"
   ]
  },
  {
   "cell_type": "code",
   "execution_count": null,
   "metadata": {
    "slideshow": {
     "slide_type": "-"
    }
   },
   "outputs": [],
   "source": [
    "import altair as alt\n",
    "\n",
    "data_url = 'data/gapminder.csv'"
   ]
  },
  {
   "cell_type": "code",
   "execution_count": null,
   "metadata": {
    "slideshow": {
     "slide_type": "-"
    }
   },
   "outputs": [],
   "source": []
  },
  {
   "cell_type": "markdown",
   "metadata": {
    "slideshow": {
     "slide_type": "subslide"
    }
   },
   "source": [
    "- What if we wanted to create a similar chart for every year in the dataset?<br><br>\n",
    "\n",
    "- We can use **faceting**:"
   ]
  },
  {
   "cell_type": "code",
   "execution_count": null,
   "metadata": {
    "slideshow": {
     "slide_type": "-"
    }
   },
   "outputs": [],
   "source": []
  },
  {
   "cell_type": "markdown",
   "metadata": {
    "slideshow": {
     "slide_type": "slide"
    }
   },
   "source": [
    "## Grammar of data manipulation"
   ]
  },
  {
   "cell_type": "markdown",
   "metadata": {
    "slideshow": {
     "slide_type": "-"
    }
   },
   "source": [
    "- A **grammar of data manipulation** allows us to use a consistent set of operations to solve the most common data manipulation challenges"
   ]
  },
  {
   "cell_type": "markdown",
   "metadata": {
    "slideshow": {
     "slide_type": "fragment"
    }
   },
   "source": [
    "- [dplyr](https://dplyr.tidyverse.org/) (also by Hadley Wickham) is a R package that embodies this notion\n",
    "    - One function per operation\n",
    "    - Inspired by SQL"
   ]
  },
  {
   "cell_type": "markdown",
   "metadata": {
    "slideshow": {
     "slide_type": "fragment"
    }
   },
   "source": [
    "- In this course, we used [Pandas](https://pandas.pydata.org/), the popular Python data manipulation library<br><br>\n",
    "\n",
    "- Unfortunately, Pandas is notorious for having multiple ways of doing the same operation<br><br>\n",
    "\n",
    "- For this course, we restricted ourselves to an *opinionated subset* of Pandas, with one way to achieve each operation"
   ]
  },
  {
   "cell_type": "markdown",
   "metadata": {
    "slideshow": {
     "slide_type": "slide"
    }
   },
   "source": [
    "##  Basic operations for data manipulation"
   ]
  },
  {
   "cell_type": "markdown",
   "metadata": {
    "slideshow": {
     "slide_type": "-"
    }
   },
   "source": [
    "- **Filter rows** based on their values"
   ]
  },
  {
   "cell_type": "markdown",
   "metadata": {
    "slideshow": {
     "slide_type": "fragment"
    }
   },
   "source": [
    "- **Select and drop columns** based on their names"
   ]
  },
  {
   "cell_type": "markdown",
   "metadata": {
    "slideshow": {
     "slide_type": "fragment"
    }
   },
   "source": [
    "- **Sort rows** based on their values"
   ]
  },
  {
   "cell_type": "markdown",
   "metadata": {
    "slideshow": {
     "slide_type": "fragment"
    }
   },
   "source": [
    "- **Create new columns** that are functions of existing columns"
   ]
  },
  {
   "cell_type": "markdown",
   "metadata": {
    "slideshow": {
     "slide_type": "fragment"
    }
   },
   "source": [
    "- Aggregate, transform, and filter **groups of data** through **split-apply-combine**"
   ]
  },
  {
   "cell_type": "markdown",
   "metadata": {
    "slideshow": {
     "slide_type": "fragment"
    }
   },
   "source": [
    "- **Pivot** data from long form to wide form and vice versa"
   ]
  },
  {
   "cell_type": "markdown",
   "metadata": {
    "slideshow": {
     "slide_type": "fragment"
    }
   },
   "source": [
    "- **Merge** datasets together based on key columns"
   ]
  },
  {
   "cell_type": "markdown",
   "metadata": {
    "slideshow": {
     "slide_type": "subslide"
    }
   },
   "source": [
    "<img src=\"img/aggregation.jpg\" width=\"70%\" />"
   ]
  },
  {
   "cell_type": "markdown",
   "metadata": {
    "slideshow": {
     "slide_type": "subslide"
    }
   },
   "source": [
    "| Operation | Opinionated Pandas | dplyr |\n",
    "| :- | :- | :- |\n",
    "| Filter rows  | `.query()` | `filter()` |\n",
    "| Select and drop columns | `[[...]]` and `.drop()` | `select()` |\n",
    "| Sorting rows | `.sort_values()` | `arrange()` |\n",
    "| Create new columns | `.assign()` | `mutate()` |\n",
    "| Aggregate groups of data | `.groupby()` with `.agg()` | `group_by()` with `summarize()` |"
   ]
  },
  {
   "cell_type": "markdown",
   "metadata": {
    "slideshow": {
     "slide_type": "slide"
    }
   },
   "source": [
    "## An example"
   ]
  },
  {
   "cell_type": "markdown",
   "metadata": {
    "slideshow": {
     "slide_type": "-"
    }
   },
   "source": [
    "- Let's read the data into a Pandas DataFrame:"
   ]
  },
  {
   "cell_type": "code",
   "execution_count": null,
   "metadata": {
    "slideshow": {
     "slide_type": "-"
    }
   },
   "outputs": [],
   "source": [
    "import pandas as pd\n",
    "\n",
    "df = pd.read_csv('data/gapminder.csv')\n",
    "df.head()"
   ]
  },
  {
   "cell_type": "markdown",
   "metadata": {
    "slideshow": {
     "slide_type": "subslide"
    }
   },
   "source": [
    "- Let's find the country with the highest life-expectancy-to-fertility ratio in each year between 1980 to 2000 in the dataset."
   ]
  },
  {
   "cell_type": "code",
   "execution_count": null,
   "metadata": {
    "slideshow": {
     "slide_type": "-"
    }
   },
   "outputs": [],
   "source": []
  },
  {
   "cell_type": "markdown",
   "metadata": {
    "slideshow": {
     "slide_type": "slide"
    }
   },
   "source": [
    "## Course Projects"
   ]
  },
  {
   "cell_type": "markdown",
   "metadata": {
    "slideshow": {
     "slide_type": "-"
    }
   },
   "source": [
    "**Project 1.** Visually explore the relationships between colleges, majors, and salary after graduation, using data from [PayScale](https://payscale.com)\n",
    "\n",
    "<img src=\"img/major_midcareer_pay.svg\" width=\"75%\">"
   ]
  },
  {
   "cell_type": "markdown",
   "metadata": {
    "slideshow": {
     "slide_type": "subslide"
    }
   },
   "source": [
    "**Project 2.** Practice layering and customizing Altair charts by reproducing this graphic showing the relationship between corruption and human development, originally published in *The Economist* in 2011.\n",
    "\n",
    "<img src=\"img/economist_altair.svg\" width=\"55%\">"
   ]
  },
  {
   "cell_type": "markdown",
   "metadata": {
    "slideshow": {
     "slide_type": "subslide"
    }
   },
   "source": [
    "**Project 3.** Create several visualizations of COVID-19 in the United States, using a dataset created by the instructors, based on COVID-19 cases and deaths data from [usafacts.org](https://usafacts.org/visualizations/coronavirus-covid-19-spread-map/), combined with geographic data from the [United States Census Bureau](https://www.census.gov/geographies/reference-files/time-series/geo/gazetteer-files.html).\n",
    "\n",
    "<img src=\"img/problem1.png\" width=\"50%\">\n",
    "\n",
    "**Project 5.** Use Pandas to recreate the dataset used in Project 3."
   ]
  },
  {
   "cell_type": "markdown",
   "metadata": {
    "slideshow": {
     "slide_type": "subslide"
    }
   },
   "source": [
    "**Project 4.** Use Pandas to explore [this Kaggle dataset](https://www.kaggle.com/yamaerenay/spotify-dataset-19212020-160k-tracks) containing the following information on over 160,000 tracks on Spotify, including measures such as *acousticness*, *danceability*, *energy*, *instrumentalness*, *liveness*, and *speechiness*.\n",
    "\n",
    "<table border=\"1\" class=\"dataframe\">\n",
    "  <thead>\n",
    "    <tr style=\"text-align: right;\">\n",
    "      <th></th>\n",
    "      <th>decade</th>\n",
    "      <th>median_danceability</th>\n",
    "    </tr>\n",
    "  </thead>\n",
    "  <tbody>\n",
    "    <tr>\n",
    "      <th>10</th>\n",
    "      <td>2020</td>\n",
    "      <td>0.693</td>\n",
    "    </tr>\n",
    "    <tr>\n",
    "      <th>0</th>\n",
    "      <td>1920</td>\n",
    "      <td>0.624</td>\n",
    "    </tr>\n",
    "    <tr>\n",
    "      <th>9</th>\n",
    "      <td>2010</td>\n",
    "      <td>0.612</td>\n",
    "    </tr>\n",
    "    <tr>\n",
    "      <th>7</th>\n",
    "      <td>1990</td>\n",
    "      <td>0.587</td>\n",
    "    </tr>\n",
    "    <tr>\n",
    "      <th>8</th>\n",
    "      <td>2000</td>\n",
    "      <td>0.583</td>\n",
    "    </tr>\n",
    "    <tr>\n",
    "      <th>6</th>\n",
    "      <td>1980</td>\n",
    "      <td>0.564</td>\n",
    "    </tr>\n",
    "    <tr>\n",
    "      <th>1</th>\n",
    "      <td>1930</td>\n",
    "      <td>0.558</td>\n",
    "    </tr>\n",
    "    <tr>\n",
    "      <th>5</th>\n",
    "      <td>1970</td>\n",
    "      <td>0.530</td>\n",
    "    </tr>\n",
    "    <tr>\n",
    "      <th>4</th>\n",
    "      <td>1960</td>\n",
    "      <td>0.507</td>\n",
    "    </tr>\n",
    "    <tr>\n",
    "      <th>3</th>\n",
    "      <td>1950</td>\n",
    "      <td>0.489</td>\n",
    "    </tr>\n",
    "    <tr>\n",
    "      <th>2</th>\n",
    "      <td>1940</td>\n",
    "      <td>0.470</td>\n",
    "    </tr>\n",
    "  </tbody>\n",
    "</table>"
   ]
  },
  {
   "cell_type": "markdown",
   "metadata": {
    "slideshow": {
     "slide_type": "subslide"
    }
   },
   "source": [
    "**Project 6.** Work with a (perturbed) dataset on ordnance onload and offload operations performed by Navy Munitions Command Atlantic (NMCLANT) Detachment (Det) Sewells Point in 2015. Clean the data, compute performance metrics, create interactive visualizations of the data.\n",
    "\n",
    "<img src=\"img/histogram_nmc.png\" width=\"40%\" />"
   ]
  },
  {
   "cell_type": "markdown",
   "metadata": {
    "slideshow": {
     "slide_type": "slide"
    }
   },
   "source": [
    "## Other topics we had hoped to cover"
   ]
  },
  {
   "cell_type": "markdown",
   "metadata": {},
   "source": [
    "- Getting data through **web scraping**"
   ]
  },
  {
   "cell_type": "markdown",
   "metadata": {
    "slideshow": {
     "slide_type": "fragment"
    }
   },
   "source": [
    "- Getting data through **website APIs**"
   ]
  },
  {
   "cell_type": "markdown",
   "metadata": {
    "slideshow": {
     "slide_type": "fragment"
    }
   },
   "source": [
    "- Interoperability between R and Python\n",
    "    - [rpy2](https://rpy2.github.io/doc.html) is a Python library that lets you call R directly from inside Python\n",
    "    - [reticulate](https://rstudio.github.io/reticulate/) is an R library that lets you do the opposite: call Python directly from inside R"
   ]
  },
  {
   "cell_type": "markdown",
   "metadata": {
    "slideshow": {
     "slide_type": "slide"
    }
   },
   "source": [
    "## If you're interested..."
   ]
  },
  {
   "cell_type": "markdown",
   "metadata": {
    "slideshow": {
     "slide_type": "-"
    }
   },
   "source": [
    "- Data visualization with Altair:\n",
    "\n",
    "    J. Heer, D. Moritz, J. VanderPlas, B. Craft. *University of Washington Data Visualization Curriculum.* Set of Jupyter notebooks. [[link]](https://github.com/uwdata/visualization-curriculum)<br><br>\n",
    "\n",
    "- Data visualization and wrangling concepts, taught through R:\n",
    "\n",
    "    H. Wickham, G. Grolemund. *R for Data Science.* Electronic book, physical copy published by O'Reilly, 2017. [[link]](https://r4ds.had.co.nz/)<br><br>\n",
    "\n",
    "- Altair documentation [[link]](https://altair-viz.github.io/)<br><br>\n",
    "\n",
    "- Pandas documentation [[link]](https://pandas.pydata.org/docs/)"
   ]
  },
  {
   "cell_type": "markdown",
   "metadata": {
    "slideshow": {
     "slide_type": "subslide"
    }
   },
   "source": [
    "- Course website with materials:\n",
    "\n",
    "    https://www.usna.edu/Users/math/uhan/sa463a/"
   ]
  }
 ],
 "metadata": {
  "kernelspec": {
   "display_name": "Python 3",
   "language": "python",
   "name": "python3"
  },
  "language_info": {
   "codemirror_mode": {
    "name": "ipython",
    "version": 3
   },
   "file_extension": ".py",
   "mimetype": "text/x-python",
   "name": "python",
   "nbconvert_exporter": "python",
   "pygments_lexer": "ipython3",
   "version": "3.7.6"
  },
  "rise": {
   "scroll": true,
   "theme": "white"
  }
 },
 "nbformat": 4,
 "nbformat_minor": 4
}
